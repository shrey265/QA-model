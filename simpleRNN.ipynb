{
  "nbformat": 4,
  "nbformat_minor": 0,
  "metadata": {
    "colab": {
      "provenance": []
    },
    "kernelspec": {
      "name": "python3",
      "display_name": "Python 3"
    },
    "language_info": {
      "name": "python"
    }
  },
  "cells": [
    {
      "cell_type": "code",
      "source": [
        "import pandas as pd\n",
        "import numpy as np"
      ],
      "metadata": {
        "id": "X3-JdXJv5_QG"
      },
      "execution_count": 1,
      "outputs": []
    },
    {
      "cell_type": "code",
      "source": [
        "from pandas import read_csv\n",
        "import numpy as np\n",
        "from keras.models import Sequential\n",
        "from keras.layers import Dense, SimpleRNN, Dropout\n",
        "from sklearn.preprocessing import MinMaxScaler\n",
        "from sklearn.metrics import mean_squared_error\n",
        "import math\n",
        "import matplotlib.pyplot as plt"
      ],
      "metadata": {
        "id": "GDVJPSf56qW3"
      },
      "execution_count": 2,
      "outputs": []
    },
    {
      "cell_type": "code",
      "source": [
        "from google.colab import drive\n",
        "drive.mount('/content/drive')"
      ],
      "metadata": {
        "colab": {
          "base_uri": "https://localhost:8080/"
        },
        "id": "2jxQRhQS5q1X",
        "outputId": "4cc56ab5-6731-41f5-b343-6fdb7aebf39f"
      },
      "execution_count": 3,
      "outputs": [
        {
          "output_type": "stream",
          "name": "stdout",
          "text": [
            "Mounted at /content/drive\n"
          ]
        }
      ]
    },
    {
      "cell_type": "code",
      "execution_count": 4,
      "metadata": {
        "id": "z2yGYVW-pDJx",
        "colab": {
          "base_uri": "https://localhost:8080/"
        },
        "outputId": "2e6ab0b2-f78d-43f6-a706-16bfa358b603"
      },
      "outputs": [
        {
          "output_type": "execute_result",
          "data": {
            "text/plain": [
              "(2075, 181)"
            ]
          },
          "metadata": {},
          "execution_count": 4
        }
      ],
      "source": [
        "df = pd.read_csv('/content/drive/MyDrive/audio-interspeech/2075_concatenate_dm_4featu.csv')\n",
        "df = df.drop(['Unnamed: 0'], axis = 1)\n",
        "df.shape"
      ]
    },
    {
      "cell_type": "code",
      "source": [
        "np.random.seed(42)\n",
        "siz=415\n",
        "df_read = df.copy()\n",
        "df1 = df_read.sample(siz)\n",
        "df_read = df_read.drop(df1.index)\n",
        "df2 = df_read.sample(siz)\n",
        "df_read = df_read.drop(df2.index)\n",
        "df3 = df_read.sample(siz)\n",
        "df_read = df_read.drop(df3.index)\n",
        "df4 = df_read.sample(siz)\n",
        "df_read = df_read.drop(df4.index)\n",
        "df5 = df_read.copy()\n",
        "\n",
        "print(df1.shape)\n",
        "print(df2.shape)\n",
        "print(df3.shape)\n",
        "print(df4.shape)\n",
        "print(df5.shape)"
      ],
      "metadata": {
        "colab": {
          "base_uri": "https://localhost:8080/"
        },
        "id": "2qTbyNTC6IlF",
        "outputId": "4b4cc5c3-565c-47fc-946d-0a8327ba4fd0"
      },
      "execution_count": 5,
      "outputs": [
        {
          "output_type": "stream",
          "name": "stdout",
          "text": [
            "(415, 181)\n",
            "(415, 181)\n",
            "(415, 181)\n",
            "(415, 181)\n",
            "(415, 181)\n"
          ]
        }
      ]
    },
    {
      "cell_type": "code",
      "source": [
        "q = list(df1.index)+list(df2.index)+list(df3.index)+list(df4.index)+list(df5.index)\n",
        "print(df1.index)"
      ],
      "metadata": {
        "colab": {
          "base_uri": "https://localhost:8080/"
        },
        "id": "rlgMnWGN6Jub",
        "outputId": "d2e7343b-76ef-4cff-d915-2ff8dec0f74b"
      },
      "execution_count": 6,
      "outputs": [
        {
          "output_type": "stream",
          "name": "stdout",
          "text": [
            "Int64Index([ 881,  453, 2004, 1353,  281,  941, 1185, 1159, 1138,  599,\n",
            "            ...\n",
            "             834, 1730,  353, 1345, 1190, 1375,  185,  701, 1671, 1982],\n",
            "           dtype='int64', length=415)\n"
          ]
        }
      ]
    },
    {
      "cell_type": "code",
      "source": [
        "train = pd.concat([df1,df2,df3,df4], axis=0)\n",
        "test = df5.copy()\n",
        "\n",
        "Y_train = np.array(train['class'])\n",
        "X_train= np.array(train.drop(['class'],axis=1))\n",
        "# X_train=X_train.reshape(X_train.shape[0], 1 , X_train.shape[1])\n",
        "\n",
        "Y_val=np.array(test['class'])\n",
        "X_val = np.array(test.drop(['class'],axis=1))\n",
        "# X_val=X_val.reshape(X_val.shape[0], 1 , X_val.shape[1])"
      ],
      "metadata": {
        "id": "fPPcjkH66TRy"
      },
      "execution_count": 7,
      "outputs": []
    },
    {
      "cell_type": "code",
      "source": [
        "def create_RNN(hidden_units, dense_units, input_shape, activation):\n",
        "    model = Sequential()\n",
        "    model.add(SimpleRNN(hidden_units, input_shape=input_shape,\n",
        "                        activation='relu'))\n",
        "    model.add(Dense(units = input_shape[0]))\n",
        "    model.add(Dropout(0.1))\n",
        "    model.add(Dense(units=input_shape[0]))\n",
        "    model.add(Dropout(0.1))\n",
        "    model.add(Dense(units=1))\n",
        "    model.compile(loss='mean_squared_error', optimizer='adam')\n",
        "    return model"
      ],
      "metadata": {
        "id": "dzhIhncp7QAS"
      },
      "execution_count": 8,
      "outputs": []
    },
    {
      "cell_type": "code",
      "source": [
        "TIME_STEPS= X_train.shape[1]"
      ],
      "metadata": {
        "id": "GGPAjiXQ7daF"
      },
      "execution_count": 9,
      "outputs": []
    },
    {
      "cell_type": "code",
      "source": [
        "model = create_RNN(hidden_units=180, dense_units=1, input_shape=(TIME_STEPS,1),\n",
        "                   activation=['tanh', 'tanh'])\n",
        "model.fit(X_train, Y_train, epochs=200, batch_size=64, verbose=2,validation_data=(X_val, Y_val))"
      ],
      "metadata": {
        "colab": {
          "base_uri": "https://localhost:8080/"
        },
        "id": "aCv_eSQj6ffw",
        "outputId": "401007e1-b2f8-4345-f12c-a0bc1e8263e9"
      },
      "execution_count": 10,
      "outputs": [
        {
          "output_type": "stream",
          "name": "stdout",
          "text": [
            "Epoch 1/200\n",
            "26/26 - 6s - loss: 4.0422 - val_loss: 2.1000 - 6s/epoch - 243ms/step\n",
            "Epoch 2/200\n",
            "26/26 - 3s - loss: 2.2024 - val_loss: 1.8229 - 3s/epoch - 114ms/step\n",
            "Epoch 3/200\n",
            "26/26 - 3s - loss: 1.8317 - val_loss: 2.1764 - 3s/epoch - 111ms/step\n",
            "Epoch 4/200\n",
            "26/26 - 4s - loss: 1.7809 - val_loss: 1.5171 - 4s/epoch - 168ms/step\n",
            "Epoch 5/200\n",
            "26/26 - 5s - loss: 1.4819 - val_loss: 1.4646 - 5s/epoch - 201ms/step\n",
            "Epoch 6/200\n",
            "26/26 - 3s - loss: 1.4715 - val_loss: 1.5417 - 3s/epoch - 103ms/step\n",
            "Epoch 7/200\n",
            "26/26 - 3s - loss: 1.5590 - val_loss: 1.9342 - 3s/epoch - 115ms/step\n",
            "Epoch 8/200\n",
            "26/26 - 4s - loss: 1.5083 - val_loss: 1.5918 - 4s/epoch - 173ms/step\n",
            "Epoch 9/200\n",
            "26/26 - 4s - loss: 1.4412 - val_loss: 1.4365 - 4s/epoch - 136ms/step\n",
            "Epoch 10/200\n",
            "26/26 - 3s - loss: 1.4795 - val_loss: 1.8294 - 3s/epoch - 127ms/step\n",
            "Epoch 11/200\n",
            "26/26 - 3s - loss: 1.4438 - val_loss: 1.6144 - 3s/epoch - 113ms/step\n",
            "Epoch 12/200\n",
            "26/26 - 5s - loss: 1.3718 - val_loss: 1.4529 - 5s/epoch - 179ms/step\n",
            "Epoch 13/200\n",
            "26/26 - 3s - loss: 1.3740 - val_loss: 1.5343 - 3s/epoch - 125ms/step\n",
            "Epoch 14/200\n",
            "26/26 - 3s - loss: 1.3530 - val_loss: 1.4190 - 3s/epoch - 121ms/step\n",
            "Epoch 15/200\n",
            "26/26 - 3s - loss: 1.3881 - val_loss: 1.4136 - 3s/epoch - 116ms/step\n",
            "Epoch 16/200\n",
            "26/26 - 4s - loss: 1.3436 - val_loss: 1.4081 - 4s/epoch - 160ms/step\n",
            "Epoch 17/200\n",
            "26/26 - 4s - loss: 1.3659 - val_loss: 1.3702 - 4s/epoch - 143ms/step\n",
            "Epoch 18/200\n",
            "26/26 - 3s - loss: 1.3142 - val_loss: 1.4176 - 3s/epoch - 110ms/step\n",
            "Epoch 19/200\n",
            "26/26 - 3s - loss: 1.2980 - val_loss: 1.4306 - 3s/epoch - 115ms/step\n",
            "Epoch 20/200\n",
            "26/26 - 4s - loss: 1.3262 - val_loss: 1.3932 - 4s/epoch - 137ms/step\n",
            "Epoch 21/200\n",
            "26/26 - 4s - loss: 1.3198 - val_loss: 1.5458 - 4s/epoch - 165ms/step\n",
            "Epoch 22/200\n",
            "26/26 - 3s - loss: 1.3079 - val_loss: 1.5129 - 3s/epoch - 115ms/step\n",
            "Epoch 23/200\n",
            "26/26 - 3s - loss: 1.3310 - val_loss: 1.3649 - 3s/epoch - 103ms/step\n",
            "Epoch 24/200\n",
            "26/26 - 3s - loss: 1.2841 - val_loss: 1.3624 - 3s/epoch - 116ms/step\n",
            "Epoch 25/200\n",
            "26/26 - 5s - loss: 1.2843 - val_loss: 1.3377 - 5s/epoch - 185ms/step\n",
            "Epoch 26/200\n",
            "26/26 - 3s - loss: 1.3243 - val_loss: 1.3879 - 3s/epoch - 114ms/step\n",
            "Epoch 27/200\n",
            "26/26 - 3s - loss: 1.3509 - val_loss: 1.4299 - 3s/epoch - 108ms/step\n",
            "Epoch 28/200\n",
            "26/26 - 3s - loss: 1.3225 - val_loss: 1.4268 - 3s/epoch - 115ms/step\n",
            "Epoch 29/200\n",
            "26/26 - 5s - loss: 1.3686 - val_loss: 1.3695 - 5s/epoch - 182ms/step\n",
            "Epoch 30/200\n",
            "26/26 - 3s - loss: 1.3226 - val_loss: 1.4277 - 3s/epoch - 129ms/step\n",
            "Epoch 31/200\n",
            "26/26 - 3s - loss: 1.2920 - val_loss: 1.3740 - 3s/epoch - 111ms/step\n",
            "Epoch 32/200\n",
            "26/26 - 3s - loss: 1.2982 - val_loss: 1.3798 - 3s/epoch - 121ms/step\n",
            "Epoch 33/200\n",
            "26/26 - 5s - loss: 1.2700 - val_loss: 1.4195 - 5s/epoch - 173ms/step\n",
            "Epoch 34/200\n",
            "26/26 - 4s - loss: 1.3090 - val_loss: 1.5627 - 4s/epoch - 136ms/step\n",
            "Epoch 35/200\n",
            "26/26 - 3s - loss: 1.2991 - val_loss: 1.3714 - 3s/epoch - 118ms/step\n",
            "Epoch 36/200\n",
            "26/26 - 3s - loss: 1.3167 - val_loss: 1.3552 - 3s/epoch - 113ms/step\n",
            "Epoch 37/200\n",
            "26/26 - 4s - loss: 1.2500 - val_loss: 1.4008 - 4s/epoch - 165ms/step\n",
            "Epoch 38/200\n",
            "26/26 - 4s - loss: 1.2744 - val_loss: 1.3497 - 4s/epoch - 138ms/step\n",
            "Epoch 39/200\n",
            "26/26 - 3s - loss: 1.2772 - val_loss: 1.3887 - 3s/epoch - 111ms/step\n",
            "Epoch 40/200\n",
            "26/26 - 3s - loss: 1.2665 - val_loss: 1.3544 - 3s/epoch - 117ms/step\n",
            "Epoch 41/200\n",
            "26/26 - 4s - loss: 1.2479 - val_loss: 1.3216 - 4s/epoch - 142ms/step\n",
            "Epoch 42/200\n",
            "26/26 - 4s - loss: 1.2377 - val_loss: 1.3458 - 4s/epoch - 165ms/step\n",
            "Epoch 43/200\n",
            "26/26 - 3s - loss: 1.2591 - val_loss: 1.3515 - 3s/epoch - 106ms/step\n",
            "Epoch 44/200\n",
            "26/26 - 3s - loss: 1.2730 - val_loss: 1.3237 - 3s/epoch - 115ms/step\n",
            "Epoch 45/200\n",
            "26/26 - 4s - loss: 1.2431 - val_loss: 1.4039 - 4s/epoch - 136ms/step\n",
            "Epoch 46/200\n",
            "26/26 - 5s - loss: 1.2574 - val_loss: 1.3405 - 5s/epoch - 181ms/step\n",
            "Epoch 47/200\n",
            "26/26 - 3s - loss: 1.2065 - val_loss: 1.2881 - 3s/epoch - 121ms/step\n",
            "Epoch 48/200\n",
            "26/26 - 3s - loss: 1.2599 - val_loss: 1.4331 - 3s/epoch - 119ms/step\n",
            "Epoch 49/200\n",
            "26/26 - 4s - loss: 1.3354 - val_loss: 1.3995 - 4s/epoch - 142ms/step\n",
            "Epoch 50/200\n",
            "26/26 - 4s - loss: 1.3034 - val_loss: 1.3624 - 4s/epoch - 168ms/step\n",
            "Epoch 51/200\n",
            "26/26 - 3s - loss: 1.2548 - val_loss: 1.3320 - 3s/epoch - 106ms/step\n",
            "Epoch 52/200\n",
            "26/26 - 3s - loss: 1.2171 - val_loss: 1.3248 - 3s/epoch - 112ms/step\n",
            "Epoch 53/200\n",
            "26/26 - 3s - loss: 1.2113 - val_loss: 1.3490 - 3s/epoch - 116ms/step\n",
            "Epoch 54/200\n",
            "26/26 - 5s - loss: 1.2361 - val_loss: 1.3423 - 5s/epoch - 192ms/step\n",
            "Epoch 55/200\n",
            "26/26 - 3s - loss: 1.2181 - val_loss: 1.3256 - 3s/epoch - 113ms/step\n",
            "Epoch 56/200\n",
            "26/26 - 3s - loss: 1.1445 - val_loss: 1.2674 - 3s/epoch - 106ms/step\n",
            "Epoch 57/200\n",
            "26/26 - 3s - loss: 1.1506 - val_loss: 1.4296 - 3s/epoch - 111ms/step\n",
            "Epoch 58/200\n",
            "26/26 - 5s - loss: 1.2589 - val_loss: 1.3331 - 5s/epoch - 179ms/step\n",
            "Epoch 59/200\n",
            "26/26 - 3s - loss: 1.1791 - val_loss: 1.3078 - 3s/epoch - 123ms/step\n",
            "Epoch 60/200\n",
            "26/26 - 3s - loss: 1.1639 - val_loss: 1.2598 - 3s/epoch - 119ms/step\n",
            "Epoch 61/200\n",
            "26/26 - 3s - loss: 1.1047 - val_loss: 1.3040 - 3s/epoch - 115ms/step\n",
            "Epoch 62/200\n",
            "26/26 - 4s - loss: 1.1057 - val_loss: 1.5232 - 4s/epoch - 161ms/step\n",
            "Epoch 63/200\n",
            "26/26 - 4s - loss: 1.1844 - val_loss: 1.2729 - 4s/epoch - 140ms/step\n",
            "Epoch 64/200\n",
            "26/26 - 3s - loss: 1.1074 - val_loss: 1.2715 - 3s/epoch - 112ms/step\n",
            "Epoch 65/200\n",
            "26/26 - 3s - loss: 1.0753 - val_loss: 1.2659 - 3s/epoch - 108ms/step\n",
            "Epoch 66/200\n",
            "26/26 - 3s - loss: 1.0784 - val_loss: 1.2954 - 3s/epoch - 122ms/step\n",
            "Epoch 67/200\n",
            "26/26 - 4s - loss: 1.1115 - val_loss: 1.3061 - 4s/epoch - 171ms/step\n",
            "Epoch 68/200\n",
            "26/26 - 3s - loss: 1.0629 - val_loss: 1.2997 - 3s/epoch - 111ms/step\n",
            "Epoch 69/200\n",
            "26/26 - 3s - loss: 1.0182 - val_loss: 1.2657 - 3s/epoch - 108ms/step\n",
            "Epoch 70/200\n",
            "26/26 - 3s - loss: 1.0013 - val_loss: 1.2251 - 3s/epoch - 110ms/step\n",
            "Epoch 71/200\n",
            "26/26 - 5s - loss: 0.9838 - val_loss: 1.1967 - 5s/epoch - 194ms/step\n",
            "Epoch 72/200\n",
            "26/26 - 3s - loss: 0.9453 - val_loss: 1.2665 - 3s/epoch - 111ms/step\n",
            "Epoch 73/200\n",
            "26/26 - 3s - loss: 0.9789 - val_loss: 1.2128 - 3s/epoch - 112ms/step\n",
            "Epoch 74/200\n",
            "26/26 - 3s - loss: 0.9370 - val_loss: 1.2293 - 3s/epoch - 110ms/step\n",
            "Epoch 75/200\n",
            "26/26 - 5s - loss: 0.9423 - val_loss: 1.2887 - 5s/epoch - 176ms/step\n",
            "Epoch 76/200\n",
            "26/26 - 3s - loss: 0.9597 - val_loss: 1.2367 - 3s/epoch - 126ms/step\n",
            "Epoch 77/200\n",
            "26/26 - 3s - loss: 0.9351 - val_loss: 1.2674 - 3s/epoch - 107ms/step\n",
            "Epoch 78/200\n",
            "26/26 - 3s - loss: 0.9669 - val_loss: 1.4067 - 3s/epoch - 107ms/step\n",
            "Epoch 79/200\n",
            "26/26 - 4s - loss: 0.9751 - val_loss: 1.2662 - 4s/epoch - 155ms/step\n",
            "Epoch 80/200\n",
            "26/26 - 4s - loss: 0.9777 - val_loss: 1.2702 - 4s/epoch - 156ms/step\n",
            "Epoch 81/200\n",
            "26/26 - 3s - loss: 0.9561 - val_loss: 1.2190 - 3s/epoch - 109ms/step\n",
            "Epoch 82/200\n",
            "26/26 - 3s - loss: 0.8874 - val_loss: 1.2176 - 3s/epoch - 113ms/step\n",
            "Epoch 83/200\n",
            "26/26 - 3s - loss: 0.8474 - val_loss: 1.2220 - 3s/epoch - 126ms/step\n",
            "Epoch 84/200\n",
            "26/26 - 5s - loss: 0.9240 - val_loss: 1.2238 - 5s/epoch - 178ms/step\n",
            "Epoch 85/200\n",
            "26/26 - 3s - loss: 0.8496 - val_loss: 1.2584 - 3s/epoch - 114ms/step\n",
            "Epoch 86/200\n",
            "26/26 - 3s - loss: 0.8076 - val_loss: 1.3521 - 3s/epoch - 116ms/step\n",
            "Epoch 87/200\n",
            "26/26 - 3s - loss: 0.8335 - val_loss: 1.2624 - 3s/epoch - 111ms/step\n",
            "Epoch 88/200\n",
            "26/26 - 5s - loss: 0.8089 - val_loss: 1.2277 - 5s/epoch - 193ms/step\n",
            "Epoch 89/200\n",
            "26/26 - 3s - loss: 0.8164 - val_loss: 1.4028 - 3s/epoch - 116ms/step\n",
            "Epoch 90/200\n",
            "26/26 - 3s - loss: 0.8266 - val_loss: 1.2332 - 3s/epoch - 113ms/step\n",
            "Epoch 91/200\n",
            "26/26 - 3s - loss: 0.7785 - val_loss: 1.2712 - 3s/epoch - 115ms/step\n",
            "Epoch 92/200\n",
            "26/26 - 5s - loss: 0.7872 - val_loss: 1.4109 - 5s/epoch - 198ms/step\n",
            "Epoch 93/200\n",
            "26/26 - 3s - loss: 0.9433 - val_loss: 1.3541 - 3s/epoch - 122ms/step\n",
            "Epoch 94/200\n",
            "26/26 - 3s - loss: 0.9162 - val_loss: 1.2542 - 3s/epoch - 113ms/step\n",
            "Epoch 95/200\n",
            "26/26 - 3s - loss: 0.8800 - val_loss: 1.2499 - 3s/epoch - 112ms/step\n",
            "Epoch 96/200\n",
            "26/26 - 5s - loss: 0.8112 - val_loss: 1.2928 - 5s/epoch - 195ms/step\n",
            "Epoch 97/200\n",
            "26/26 - 3s - loss: 0.8459 - val_loss: 1.2871 - 3s/epoch - 122ms/step\n",
            "Epoch 98/200\n",
            "26/26 - 3s - loss: 0.7865 - val_loss: 1.2885 - 3s/epoch - 116ms/step\n",
            "Epoch 99/200\n",
            "26/26 - 3s - loss: 0.8012 - val_loss: 1.2695 - 3s/epoch - 114ms/step\n",
            "Epoch 100/200\n",
            "26/26 - 5s - loss: 0.7850 - val_loss: 1.3163 - 5s/epoch - 182ms/step\n",
            "Epoch 101/200\n",
            "26/26 - 3s - loss: 0.7760 - val_loss: 1.2738 - 3s/epoch - 122ms/step\n",
            "Epoch 102/200\n",
            "26/26 - 3s - loss: 0.7161 - val_loss: 1.2985 - 3s/epoch - 118ms/step\n",
            "Epoch 103/200\n",
            "26/26 - 3s - loss: 0.7007 - val_loss: 1.2413 - 3s/epoch - 113ms/step\n",
            "Epoch 104/200\n",
            "26/26 - 5s - loss: 0.6731 - val_loss: 1.3979 - 5s/epoch - 178ms/step\n",
            "Epoch 105/200\n",
            "26/26 - 3s - loss: 0.6956 - val_loss: 1.3343 - 3s/epoch - 126ms/step\n",
            "Epoch 106/200\n",
            "26/26 - 3s - loss: 0.7247 - val_loss: 1.2561 - 3s/epoch - 123ms/step\n",
            "Epoch 107/200\n",
            "26/26 - 3s - loss: 1.0034 - val_loss: 1.6640 - 3s/epoch - 112ms/step\n",
            "Epoch 108/200\n",
            "26/26 - 4s - loss: 1.3521 - val_loss: 1.4003 - 4s/epoch - 150ms/step\n",
            "Epoch 109/200\n",
            "26/26 - 4s - loss: 1.2240 - val_loss: 1.2850 - 4s/epoch - 150ms/step\n",
            "Epoch 110/200\n",
            "26/26 - 3s - loss: 1.1278 - val_loss: 1.3292 - 3s/epoch - 114ms/step\n",
            "Epoch 111/200\n",
            "26/26 - 3s - loss: 1.0611 - val_loss: 1.2393 - 3s/epoch - 113ms/step\n",
            "Epoch 112/200\n",
            "26/26 - 4s - loss: 0.9725 - val_loss: 1.2565 - 4s/epoch - 151ms/step\n",
            "Epoch 113/200\n",
            "26/26 - 4s - loss: 0.9387 - val_loss: 1.2343 - 4s/epoch - 169ms/step\n",
            "Epoch 114/200\n",
            "26/26 - 3s - loss: 0.8992 - val_loss: 1.1892 - 3s/epoch - 111ms/step\n",
            "Epoch 115/200\n",
            "26/26 - 3s - loss: 0.8671 - val_loss: 1.2435 - 3s/epoch - 116ms/step\n",
            "Epoch 116/200\n",
            "26/26 - 4s - loss: 0.8494 - val_loss: 1.2866 - 4s/epoch - 140ms/step\n",
            "Epoch 117/200\n",
            "26/26 - 4s - loss: 0.8025 - val_loss: 1.2918 - 4s/epoch - 173ms/step\n",
            "Epoch 118/200\n",
            "26/26 - 3s - loss: 0.8388 - val_loss: 1.2774 - 3s/epoch - 115ms/step\n",
            "Epoch 119/200\n",
            "26/26 - 3s - loss: 0.8046 - val_loss: 1.1907 - 3s/epoch - 114ms/step\n",
            "Epoch 120/200\n",
            "26/26 - 3s - loss: 0.7926 - val_loss: 1.2895 - 3s/epoch - 113ms/step\n",
            "Epoch 121/200\n",
            "26/26 - 5s - loss: 0.7494 - val_loss: 1.2302 - 5s/epoch - 192ms/step\n",
            "Epoch 122/200\n",
            "26/26 - 3s - loss: 0.7635 - val_loss: 1.2086 - 3s/epoch - 118ms/step\n",
            "Epoch 123/200\n",
            "26/26 - 3s - loss: 0.7494 - val_loss: 1.2802 - 3s/epoch - 116ms/step\n",
            "Epoch 124/200\n",
            "26/26 - 3s - loss: 0.7188 - val_loss: 1.2644 - 3s/epoch - 121ms/step\n",
            "Epoch 125/200\n",
            "26/26 - 5s - loss: 0.7116 - val_loss: 1.2467 - 5s/epoch - 188ms/step\n",
            "Epoch 126/200\n",
            "26/26 - 3s - loss: 0.7240 - val_loss: 1.2826 - 3s/epoch - 114ms/step\n",
            "Epoch 127/200\n",
            "26/26 - 3s - loss: 0.7453 - val_loss: 1.2666 - 3s/epoch - 111ms/step\n",
            "Epoch 128/200\n",
            "26/26 - 3s - loss: 0.7111 - val_loss: 1.3408 - 3s/epoch - 117ms/step\n",
            "Epoch 129/200\n",
            "26/26 - 5s - loss: 0.7483 - val_loss: 1.3117 - 5s/epoch - 190ms/step\n",
            "Epoch 130/200\n",
            "26/26 - 3s - loss: 0.7272 - val_loss: 1.2831 - 3s/epoch - 114ms/step\n",
            "Epoch 131/200\n",
            "26/26 - 3s - loss: 0.6772 - val_loss: 1.2109 - 3s/epoch - 108ms/step\n",
            "Epoch 132/200\n",
            "26/26 - 3s - loss: 0.6026 - val_loss: 1.2591 - 3s/epoch - 106ms/step\n",
            "Epoch 133/200\n",
            "26/26 - 5s - loss: 0.6019 - val_loss: 1.2417 - 5s/epoch - 179ms/step\n",
            "Epoch 134/200\n",
            "26/26 - 4s - loss: 0.6723 - val_loss: 1.2619 - 4s/epoch - 136ms/step\n",
            "Epoch 135/200\n",
            "26/26 - 3s - loss: 0.6085 - val_loss: 1.2266 - 3s/epoch - 118ms/step\n",
            "Epoch 136/200\n",
            "26/26 - 3s - loss: 0.6337 - val_loss: 1.2490 - 3s/epoch - 115ms/step\n",
            "Epoch 137/200\n",
            "26/26 - 4s - loss: 0.5458 - val_loss: 1.2821 - 4s/epoch - 161ms/step\n",
            "Epoch 138/200\n",
            "26/26 - 4s - loss: 0.5639 - val_loss: 1.2408 - 4s/epoch - 155ms/step\n",
            "Epoch 139/200\n",
            "26/26 - 3s - loss: 0.6308 - val_loss: 1.3201 - 3s/epoch - 113ms/step\n",
            "Epoch 140/200\n",
            "26/26 - 3s - loss: 0.6381 - val_loss: 1.2045 - 3s/epoch - 123ms/step\n",
            "Epoch 141/200\n",
            "26/26 - 4s - loss: 0.5620 - val_loss: 1.2832 - 4s/epoch - 161ms/step\n",
            "Epoch 142/200\n",
            "26/26 - 4s - loss: 0.5524 - val_loss: 1.2412 - 4s/epoch - 155ms/step\n",
            "Epoch 143/200\n",
            "26/26 - 3s - loss: 0.5724 - val_loss: 1.2089 - 3s/epoch - 104ms/step\n",
            "Epoch 144/200\n",
            "26/26 - 3s - loss: 0.6020 - val_loss: 1.1476 - 3s/epoch - 124ms/step\n",
            "Epoch 145/200\n",
            "26/26 - 4s - loss: 0.5411 - val_loss: 1.1368 - 4s/epoch - 155ms/step\n",
            "Epoch 146/200\n",
            "26/26 - 4s - loss: 0.5548 - val_loss: 1.1668 - 4s/epoch - 156ms/step\n",
            "Epoch 147/200\n",
            "26/26 - 3s - loss: 0.5117 - val_loss: 1.2087 - 3s/epoch - 118ms/step\n",
            "Epoch 148/200\n",
            "26/26 - 3s - loss: 0.4754 - val_loss: 1.2835 - 3s/epoch - 117ms/step\n",
            "Epoch 149/200\n",
            "26/26 - 4s - loss: 0.4808 - val_loss: 1.2154 - 4s/epoch - 137ms/step\n",
            "Epoch 150/200\n",
            "26/26 - 4s - loss: 0.5127 - val_loss: 1.1681 - 4s/epoch - 168ms/step\n",
            "Epoch 151/200\n",
            "26/26 - 3s - loss: 0.4565 - val_loss: 1.2049 - 3s/epoch - 120ms/step\n",
            "Epoch 152/200\n",
            "26/26 - 3s - loss: 0.4934 - val_loss: 1.2855 - 3s/epoch - 124ms/step\n",
            "Epoch 153/200\n",
            "26/26 - 4s - loss: 0.4869 - val_loss: 1.3242 - 4s/epoch - 141ms/step\n",
            "Epoch 154/200\n",
            "26/26 - 5s - loss: 0.4811 - val_loss: 1.1750 - 5s/epoch - 174ms/step\n",
            "Epoch 155/200\n",
            "26/26 - 3s - loss: 0.4527 - val_loss: 1.2705 - 3s/epoch - 112ms/step\n",
            "Epoch 156/200\n",
            "26/26 - 3s - loss: 0.5447 - val_loss: 1.1670 - 3s/epoch - 115ms/step\n",
            "Epoch 157/200\n",
            "26/26 - 3s - loss: 0.4497 - val_loss: 1.1272 - 3s/epoch - 118ms/step\n",
            "Epoch 158/200\n",
            "26/26 - 5s - loss: 0.4856 - val_loss: 1.2105 - 5s/epoch - 184ms/step\n",
            "Epoch 159/200\n",
            "26/26 - 3s - loss: 1.3086 - val_loss: 1.7223 - 3s/epoch - 114ms/step\n",
            "Epoch 160/200\n",
            "26/26 - 3s - loss: 6.2512 - val_loss: 1.6035 - 3s/epoch - 117ms/step\n",
            "Epoch 161/200\n",
            "26/26 - 3s - loss: 1.6039 - val_loss: 1.5060 - 3s/epoch - 119ms/step\n",
            "Epoch 162/200\n",
            "26/26 - 5s - loss: 1.4695 - val_loss: 1.6374 - 5s/epoch - 187ms/step\n",
            "Epoch 163/200\n",
            "26/26 - 3s - loss: 1.4558 - val_loss: 1.4586 - 3s/epoch - 116ms/step\n",
            "Epoch 164/200\n",
            "26/26 - 3s - loss: 1.4460 - val_loss: 1.4779 - 3s/epoch - 104ms/step\n",
            "Epoch 165/200\n",
            "26/26 - 3s - loss: 1.4361 - val_loss: 1.4544 - 3s/epoch - 109ms/step\n",
            "Epoch 166/200\n",
            "26/26 - 4s - loss: 1.4443 - val_loss: 1.5621 - 4s/epoch - 167ms/step\n",
            "Epoch 167/200\n",
            "26/26 - 4s - loss: 1.4283 - val_loss: 1.4534 - 4s/epoch - 136ms/step\n",
            "Epoch 168/200\n",
            "26/26 - 3s - loss: 1.4113 - val_loss: 1.4417 - 3s/epoch - 108ms/step\n",
            "Epoch 169/200\n",
            "26/26 - 3s - loss: 1.4006 - val_loss: 1.4718 - 3s/epoch - 109ms/step\n",
            "Epoch 170/200\n",
            "26/26 - 4s - loss: 1.3798 - val_loss: 1.4160 - 4s/epoch - 143ms/step\n",
            "Epoch 171/200\n",
            "26/26 - 4s - loss: 1.4108 - val_loss: 1.4060 - 4s/epoch - 162ms/step\n",
            "Epoch 172/200\n",
            "26/26 - 3s - loss: 1.3700 - val_loss: 1.4094 - 3s/epoch - 108ms/step\n",
            "Epoch 173/200\n",
            "26/26 - 3s - loss: 1.3758 - val_loss: 1.4076 - 3s/epoch - 107ms/step\n",
            "Epoch 174/200\n",
            "26/26 - 3s - loss: 1.3583 - val_loss: 1.4074 - 3s/epoch - 106ms/step\n",
            "Epoch 175/200\n",
            "26/26 - 5s - loss: 1.3590 - val_loss: 1.4131 - 5s/epoch - 198ms/step\n",
            "Epoch 176/200\n",
            "26/26 - 3s - loss: 1.3581 - val_loss: 1.4068 - 3s/epoch - 114ms/step\n",
            "Epoch 177/200\n",
            "26/26 - 3s - loss: 1.3556 - val_loss: 1.4676 - 3s/epoch - 116ms/step\n",
            "Epoch 178/200\n",
            "26/26 - 3s - loss: 1.3199 - val_loss: 1.4036 - 3s/epoch - 117ms/step\n",
            "Epoch 179/200\n",
            "26/26 - 5s - loss: 1.3448 - val_loss: 1.3940 - 5s/epoch - 193ms/step\n",
            "Epoch 180/200\n",
            "26/26 - 3s - loss: 1.3193 - val_loss: 1.3915 - 3s/epoch - 108ms/step\n",
            "Epoch 181/200\n",
            "26/26 - 3s - loss: 1.3019 - val_loss: 1.3643 - 3s/epoch - 114ms/step\n",
            "Epoch 182/200\n",
            "26/26 - 3s - loss: 1.2854 - val_loss: 1.4372 - 3s/epoch - 114ms/step\n",
            "Epoch 183/200\n",
            "26/26 - 5s - loss: 1.3086 - val_loss: 1.4732 - 5s/epoch - 178ms/step\n",
            "Epoch 184/200\n",
            "26/26 - 3s - loss: 1.4981 - val_loss: 1.5259 - 3s/epoch - 130ms/step\n",
            "Epoch 185/200\n",
            "26/26 - 3s - loss: 1.3698 - val_loss: 1.4775 - 3s/epoch - 116ms/step\n",
            "Epoch 186/200\n",
            "26/26 - 3s - loss: 1.3734 - val_loss: 1.4360 - 3s/epoch - 117ms/step\n",
            "Epoch 187/200\n",
            "26/26 - 4s - loss: 1.3200 - val_loss: 1.3891 - 4s/epoch - 167ms/step\n",
            "Epoch 188/200\n",
            "26/26 - 4s - loss: 1.3179 - val_loss: 1.3732 - 4s/epoch - 144ms/step\n",
            "Epoch 189/200\n",
            "26/26 - 3s - loss: 1.2880 - val_loss: 1.3694 - 3s/epoch - 109ms/step\n",
            "Epoch 190/200\n",
            "26/26 - 3s - loss: 1.2799 - val_loss: 1.3626 - 3s/epoch - 113ms/step\n",
            "Epoch 191/200\n",
            "26/26 - 4s - loss: 1.2761 - val_loss: 1.3562 - 4s/epoch - 139ms/step\n",
            "Epoch 192/200\n",
            "26/26 - 5s - loss: 1.2739 - val_loss: 1.3806 - 5s/epoch - 175ms/step\n",
            "Epoch 193/200\n",
            "26/26 - 3s - loss: 1.2556 - val_loss: 1.3505 - 3s/epoch - 110ms/step\n",
            "Epoch 194/200\n",
            "26/26 - 3s - loss: 1.2703 - val_loss: 1.3569 - 3s/epoch - 117ms/step\n",
            "Epoch 195/200\n",
            "26/26 - 3s - loss: 1.2277 - val_loss: 1.3758 - 3s/epoch - 121ms/step\n",
            "Epoch 196/200\n",
            "26/26 - 5s - loss: 1.2443 - val_loss: 1.3569 - 5s/epoch - 181ms/step\n",
            "Epoch 197/200\n",
            "26/26 - 3s - loss: 1.2448 - val_loss: 1.3332 - 3s/epoch - 116ms/step\n",
            "Epoch 198/200\n",
            "26/26 - 3s - loss: 1.2101 - val_loss: 1.3338 - 3s/epoch - 107ms/step\n",
            "Epoch 199/200\n",
            "26/26 - 3s - loss: 1.2136 - val_loss: 1.3372 - 3s/epoch - 117ms/step\n",
            "Epoch 200/200\n",
            "26/26 - 5s - loss: 1.2451 - val_loss: 1.3407 - 5s/epoch - 192ms/step\n"
          ]
        },
        {
          "output_type": "execute_result",
          "data": {
            "text/plain": [
              "<keras.src.callbacks.History at 0x7f194f90ab30>"
            ]
          },
          "metadata": {},
          "execution_count": 10
        }
      ]
    },
    {
      "cell_type": "code",
      "source": [
        "#run\n",
        "import time\n",
        "st = time.time()\n",
        "p1 = np.array(model(X_val)).flatten()\n",
        "end = time.time()\n",
        "# print(end, st, len(p1))\n",
        "print((end-st)/len(p1))\n",
        "p2 = np.array(model(X_train)).flatten()\n",
        "print(X_train.shape)\n",
        "print(X_val.shape)"
      ],
      "metadata": {
        "colab": {
          "base_uri": "https://localhost:8080/"
        },
        "id": "HOM5Pk6SE4Dp",
        "outputId": "34144c14-7a39-4a99-a7ee-81d8d817a60d"
      },
      "execution_count": 11,
      "outputs": [
        {
          "output_type": "stream",
          "name": "stdout",
          "text": [
            "0.001599750174097268\n",
            "(1660, 180)\n",
            "(415, 180)\n"
          ]
        }
      ]
    },
    {
      "cell_type": "code",
      "source": [
        "from scipy import stats\n",
        "from scipy.stats import kendalltau\n",
        "# print(np.corrcoef(p2, Y_train), stats.spearmanr(p2, Y_train), kendalltau(p2,Y_train).correlation)\n",
        "np.corrcoef(p1, Y_val)[1][0], stats.spearmanr(p1, Y_val).correlation, kendalltau(p1,Y_val).correlation\n"
      ],
      "metadata": {
        "colab": {
          "base_uri": "https://localhost:8080/"
        },
        "id": "hdz61xYLE8fA",
        "outputId": "8b3d4374-e180-42e5-b4b1-32c1a3e5a7ec"
      },
      "execution_count": 12,
      "outputs": [
        {
          "output_type": "execute_result",
          "data": {
            "text/plain": [
              "(0.4289436965581745, 0.40809121851666413, 0.2833540246822248)"
            ]
          },
          "metadata": {},
          "execution_count": 12
        }
      ]
    }
  ]
}